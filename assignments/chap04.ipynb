{
 "cells": [
  {
   "cell_type": "markdown",
   "metadata": {},
   "source": [
    "# Modeling and Simulation in Python\n",
    "\n",
    "Chapter 4\n",
    "\n",
    "Copyright 2017 Allen Downey\n",
    "\n",
    "License: [Creative Commons Attribution 4.0 International](https://creativecommons.org/licenses/by/4.0)\n"
   ]
  },
  {
   "cell_type": "code",
   "execution_count": 36,
   "metadata": {},
   "outputs": [],
   "source": [
    "# Configure Jupyter so figures appear in the notebook\n",
    "%matplotlib inline\n",
    "\n",
    "# Configure Jupyter to display the assigned value after an assignment\n",
    "%config InteractiveShell.ast_node_interactivity='last_expr_or_assign'\n",
    "\n",
    "# import functions from the modsim library\n",
    "from modsim import *\n",
    "import copy\n",
    "import collections\n"
   ]
  },
  {
   "cell_type": "markdown",
   "metadata": {},
   "source": [
    "## Returning values"
   ]
  },
  {
   "cell_type": "markdown",
   "metadata": {},
   "source": [
    "Here's a simple function that returns a value:"
   ]
  },
  {
   "cell_type": "code",
   "execution_count": 2,
   "metadata": {},
   "outputs": [],
   "source": [
    "def add_five(x):\n",
    "    return x + 5"
   ]
  },
  {
   "cell_type": "markdown",
   "metadata": {},
   "source": [
    "And here's how we call it."
   ]
  },
  {
   "cell_type": "code",
   "execution_count": 3,
   "metadata": {},
   "outputs": [
    {
     "data": {
      "text/plain": [
       "8"
      ]
     },
     "execution_count": 3,
     "metadata": {},
     "output_type": "execute_result"
    }
   ],
   "source": [
    "y = add_five(3)"
   ]
  },
  {
   "cell_type": "markdown",
   "metadata": {},
   "source": [
    "If you run a function on the last line of a cell, Jupyter displays the result:"
   ]
  },
  {
   "cell_type": "code",
   "execution_count": 4,
   "metadata": {},
   "outputs": [
    {
     "data": {
      "text/plain": [
       "10"
      ]
     },
     "execution_count": 4,
     "metadata": {},
     "output_type": "execute_result"
    }
   ],
   "source": [
    "add_five(5)"
   ]
  },
  {
   "cell_type": "markdown",
   "metadata": {},
   "source": [
    "But that can be a bad habit, because usually if you call a function and don't assign the result in a variable, the result gets discarded.\n",
    "\n",
    "In the following example, Jupyter shows the second result, but the first result just disappears."
   ]
  },
  {
   "cell_type": "code",
   "execution_count": 5,
   "metadata": {},
   "outputs": [
    {
     "data": {
      "text/plain": [
       "10"
      ]
     },
     "execution_count": 5,
     "metadata": {},
     "output_type": "execute_result"
    }
   ],
   "source": [
    "add_five(3)\n",
    "add_five(5)"
   ]
  },
  {
   "cell_type": "markdown",
   "metadata": {},
   "source": [
    "When you call a function that returns a variable, it is generally a good idea to assign the result to a variable."
   ]
  },
  {
   "cell_type": "code",
   "execution_count": 6,
   "metadata": {},
   "outputs": [
    {
     "name": "stdout",
     "output_type": "stream",
     "text": [
      "8 10\n"
     ]
    }
   ],
   "source": [
    "y1 = add_five(3)\n",
    "y2 = add_five(5)\n",
    "\n",
    "print(y1, y2)"
   ]
  },
  {
   "cell_type": "markdown",
   "metadata": {},
   "source": [
    "**Exercise:** Write a function called `make_state` that creates a `State` object with the state variables `olin=10` and `wellesley=2`, and then returns the new `State` object.\n",
    "\n",
    "Write a line of code that calls `make_state` and assigns the result to a variable named `init`."
   ]
  },
  {
   "cell_type": "code",
   "execution_count": 7,
   "metadata": {},
   "outputs": [
    {
     "data": {
      "text/html": [
       "<div>\n",
       "<style scoped>\n",
       "    .dataframe tbody tr th:only-of-type {\n",
       "        vertical-align: middle;\n",
       "    }\n",
       "\n",
       "    .dataframe tbody tr th {\n",
       "        vertical-align: top;\n",
       "    }\n",
       "\n",
       "    .dataframe thead th {\n",
       "        text-align: right;\n",
       "    }\n",
       "</style>\n",
       "<table border=\"1\" class=\"dataframe\">\n",
       "  <thead>\n",
       "    <tr style=\"text-align: right;\">\n",
       "      <th></th>\n",
       "      <th>values</th>\n",
       "    </tr>\n",
       "  </thead>\n",
       "  <tbody>\n",
       "    <tr>\n",
       "      <th>olin</th>\n",
       "      <td>10</td>\n",
       "    </tr>\n",
       "    <tr>\n",
       "      <th>wellesey</th>\n",
       "      <td>2</td>\n",
       "    </tr>\n",
       "    <tr>\n",
       "      <th>olin_empty</th>\n",
       "      <td>0</td>\n",
       "    </tr>\n",
       "    <tr>\n",
       "      <th>wellesley_empty</th>\n",
       "      <td>0</td>\n",
       "    </tr>\n",
       "  </tbody>\n",
       "</table>\n",
       "</div>"
      ],
      "text/plain": [
       "olin               10\n",
       "wellesey            2\n",
       "olin_empty          0\n",
       "wellesley_empty     0\n",
       "dtype: int64"
      ]
     },
     "execution_count": 7,
     "metadata": {},
     "output_type": "execute_result"
    }
   ],
   "source": [
    "# ===================================================================================\n",
    "def make_state(data = {}):\n",
    "    \"\"\"Return an initial State object\n",
    "    \n",
    "    Parameters:\n",
    "        data (dict): dictionary of locations with number of bikes at each (default {0.0})\n",
    "            example: {'olin': 10, 'wellesey': 2}\n",
    "    \n",
    "    Returns:\n",
    "        State: state object initialized with data items\n",
    "    \"\"\"\n",
    "    locations_state = State(**data)\n",
    "    return locations_state\n",
    "\n",
    "\n",
    "# ===================================================================================\n",
    "\n",
    "# define locations\n",
    "locations = {'olin'           : 10, \n",
    "             'wellesey'       : 2,\n",
    "             'olin_empty'     : 0,\n",
    "             'wellesley_empty': 0}\n",
    "\n",
    "init = make_state(locations)"
   ]
  },
  {
   "cell_type": "markdown",
   "metadata": {},
   "source": [
    "## Running simulations"
   ]
  },
  {
   "cell_type": "markdown",
   "metadata": {},
   "source": [
    "Here's the code from the previous notebook."
   ]
  },
  {
   "cell_type": "code",
   "execution_count": 8,
   "metadata": {},
   "outputs": [],
   "source": [
    "# ===================================================================================\n",
    "def step(state, p1, p2):\n",
    "    \"\"\"Simulate one minute of time.\n",
    "    \n",
    "    state: bikeshare State object\n",
    "    p1: probability of an Olin->Wellesley customer arrival\n",
    "    p2: probability of a Wellesley->Olin customer arrival\n",
    "    \"\"\"\n",
    "    if flip(p1):\n",
    "        bike_to_wellesley(state)\n",
    "    \n",
    "    if flip(p2):\n",
    "        bike_to_olin(state)\n",
    "        \n",
    "# ===================================================================================\n",
    "def bike_to_wellesley(state):\n",
    "    \"\"\"Move one bike from Olin to Wellesley.\n",
    "    \n",
    "    state: bikeshare State object\n",
    "    \"\"\"\n",
    "    if state.olin == 0:\n",
    "        state.olin_empty += 1\n",
    "        return\n",
    "    \n",
    "    state.olin -= 1\n",
    "    state.wellesley += 1\n",
    "    \n",
    "# ===================================================================================\n",
    "def bike_to_olin(state):\n",
    "    \"\"\"Move one bike from Wellesley to Olin.\n",
    "    \n",
    "    state: bikeshare State object\n",
    "    \"\"\"\n",
    "    if state.wellesley == 0:\n",
    "        state.wellesley_empty += 1\n",
    "        return\n",
    "    \n",
    "    state.wellesley -= 1\n",
    "    state.olin += 1\n",
    "    \n",
    "# ===================================================================================\n",
    "def decorate_bikeshare():\n",
    "    \"\"\"Add a title and label the axes.\"\"\"\n",
    "    decorate(title='Olin-Wellesley Bikeshare',\n",
    "             xlabel='Time step (min)', \n",
    "             ylabel='Number of bikes')"
   ]
  },
  {
   "cell_type": "markdown",
   "metadata": {},
   "source": [
    "Here's a modified version of `run_simulation` that creates a `State` object, runs the simulation, and returns the `State` object."
   ]
  },
  {
   "cell_type": "code",
   "execution_count": 14,
   "metadata": {},
   "outputs": [],
   "source": [
    "def run_simulation(init_state, p1, p2, num_steps=1):\n",
    "    \"\"\"Simulate the given number of time steps.\n",
    "    \n",
    "    p1: probability of an Olin->Wellesley customer arrival\n",
    "    p2: probability of a Wellesley->Olin customer arrival\n",
    "    num_steps: number of time steps\n",
    "    \"\"\"\n",
    "    state = copy.deepcopy(init)\n",
    "                    \n",
    "    for i in range(num_steps):\n",
    "        step(state, p1, p2)\n",
    "        \n",
    "    return state"
   ]
  },
  {
   "cell_type": "markdown",
   "metadata": {},
   "source": [
    "Now `run_simulation` doesn't plot anything:"
   ]
  },
  {
   "cell_type": "code",
   "execution_count": 19,
   "metadata": {},
   "outputs": [
    {
     "data": {
      "text/html": [
       "<div>\n",
       "<style scoped>\n",
       "    .dataframe tbody tr th:only-of-type {\n",
       "        vertical-align: middle;\n",
       "    }\n",
       "\n",
       "    .dataframe tbody tr th {\n",
       "        vertical-align: top;\n",
       "    }\n",
       "\n",
       "    .dataframe thead th {\n",
       "        text-align: right;\n",
       "    }\n",
       "</style>\n",
       "<table border=\"1\" class=\"dataframe\">\n",
       "  <thead>\n",
       "    <tr style=\"text-align: right;\">\n",
       "      <th></th>\n",
       "      <th>values</th>\n",
       "    </tr>\n",
       "  </thead>\n",
       "  <tbody>\n",
       "    <tr>\n",
       "      <th>olin</th>\n",
       "      <td>2</td>\n",
       "    </tr>\n",
       "    <tr>\n",
       "      <th>wellesley</th>\n",
       "      <td>10</td>\n",
       "    </tr>\n",
       "    <tr>\n",
       "      <th>olin_empty</th>\n",
       "      <td>0</td>\n",
       "    </tr>\n",
       "    <tr>\n",
       "      <th>wellesley_empty</th>\n",
       "      <td>0</td>\n",
       "    </tr>\n",
       "  </tbody>\n",
       "</table>\n",
       "</div>"
      ],
      "text/plain": [
       "olin                2\n",
       "wellesley          10\n",
       "olin_empty          0\n",
       "wellesley_empty     0\n",
       "dtype: int64"
      ]
     },
     "execution_count": 19,
     "metadata": {},
     "output_type": "execute_result"
    }
   ],
   "source": [
    "# define locations\n",
    "locations = {'olin'           : 10, \n",
    "             'wellesley'      : 2,\n",
    "             'olin_empty'     : 0,\n",
    "             'wellesley_empty': 0}\n",
    "\n",
    "init = make_state(locations)\n",
    "\n",
    "state = run_simulation(init, 0.4, 0.2, 60)"
   ]
  },
  {
   "cell_type": "markdown",
   "metadata": {},
   "source": [
    "But after the simulation, we can read the metrics from the `State` object."
   ]
  },
  {
   "cell_type": "code",
   "execution_count": 20,
   "metadata": {},
   "outputs": [
    {
     "data": {
      "text/plain": [
       "0"
      ]
     },
     "execution_count": 20,
     "metadata": {},
     "output_type": "execute_result"
    }
   ],
   "source": [
    "state.olin_empty"
   ]
  },
  {
   "cell_type": "markdown",
   "metadata": {},
   "source": [
    "Now we can run simulations with different values for the parameters.  When `p1` is small, we probably don't run out of bikes at Olin."
   ]
  },
  {
   "cell_type": "code",
   "execution_count": 21,
   "metadata": {},
   "outputs": [
    {
     "data": {
      "text/plain": [
       "0"
      ]
     },
     "execution_count": 21,
     "metadata": {},
     "output_type": "execute_result"
    }
   ],
   "source": [
    "state = run_simulation(init, 0.2, 0.2, 60)\n",
    "state.olin_empty"
   ]
  },
  {
   "cell_type": "markdown",
   "metadata": {},
   "source": [
    "When `p1` is large, we probably do."
   ]
  },
  {
   "cell_type": "code",
   "execution_count": 22,
   "metadata": {},
   "outputs": [
    {
     "data": {
      "text/plain": [
       "9"
      ]
     },
     "execution_count": 22,
     "metadata": {},
     "output_type": "execute_result"
    }
   ],
   "source": [
    "state = run_simulation(init, 0.6, 0.2, 60)\n",
    "state.olin_empty"
   ]
  },
  {
   "cell_type": "markdown",
   "metadata": {},
   "source": [
    "## More for loops"
   ]
  },
  {
   "cell_type": "markdown",
   "metadata": {},
   "source": [
    "`linspace` creates a NumPy array of equally spaced numbers."
   ]
  },
  {
   "cell_type": "code",
   "execution_count": 23,
   "metadata": {},
   "outputs": [
    {
     "data": {
      "text/plain": [
       "array([0.  , 0.25, 0.5 , 0.75, 1.  ])"
      ]
     },
     "execution_count": 23,
     "metadata": {},
     "output_type": "execute_result"
    }
   ],
   "source": [
    "p1_array = linspace(0, 1, 5)"
   ]
  },
  {
   "cell_type": "markdown",
   "metadata": {},
   "source": [
    "We can use an array in a `for` loop, like this:"
   ]
  },
  {
   "cell_type": "code",
   "execution_count": 24,
   "metadata": {},
   "outputs": [
    {
     "name": "stdout",
     "output_type": "stream",
     "text": [
      "0.0\n",
      "0.25\n",
      "0.5\n",
      "0.75\n",
      "1.0\n"
     ]
    }
   ],
   "source": [
    "for p1 in p1_array:\n",
    "    print(p1)"
   ]
  },
  {
   "cell_type": "markdown",
   "metadata": {},
   "source": [
    "This will come in handy in the next section.\n",
    "\n",
    "`linspace` is defined in `modsim.py`.  You can get the documentation using `help`."
   ]
  },
  {
   "cell_type": "code",
   "execution_count": 25,
   "metadata": {},
   "outputs": [
    {
     "name": "stdout",
     "output_type": "stream",
     "text": [
      "Help on function linspace in module modsim.modsim:\n",
      "\n",
      "linspace(start, stop, num=50, **options)\n",
      "    Returns an array of evenly-spaced values in the interval [start, stop].\n",
      "    \n",
      "    start: first value\n",
      "    stop: last value\n",
      "    num: number of values\n",
      "    \n",
      "    Also accepts the same keyword arguments as np.linspace.  See\n",
      "    https://docs.scipy.org/doc/numpy/reference/generated/numpy.linspace.html\n",
      "    \n",
      "    returns: array or Quantity\n",
      "\n"
     ]
    }
   ],
   "source": [
    "help(linspace)"
   ]
  },
  {
   "cell_type": "markdown",
   "metadata": {},
   "source": [
    "`linspace` is based on a NumPy function with the same name.  [Click here](https://docs.scipy.org/doc/numpy/reference/generated/numpy.linspace.html) to read more about how to use it."
   ]
  },
  {
   "cell_type": "markdown",
   "metadata": {},
   "source": [
    "**Exercise:** \n",
    "Use `linspace` to make an array of 10 equally spaced numbers from 1 to 10 (including both)."
   ]
  },
  {
   "cell_type": "code",
   "execution_count": 26,
   "metadata": {},
   "outputs": [
    {
     "data": {
      "text/plain": [
       "array([ 1.,  2.,  3.,  4.,  5.,  6.,  7.,  8.,  9., 10.])"
      ]
     },
     "execution_count": 26,
     "metadata": {},
     "output_type": "execute_result"
    }
   ],
   "source": [
    "linspace(1, 10, 10)"
   ]
  },
  {
   "cell_type": "markdown",
   "metadata": {},
   "source": [
    "**Exercise:** The `modsim` library provides a related function called `linrange`.  You can view the documentation by running the following cell:"
   ]
  },
  {
   "cell_type": "code",
   "execution_count": 27,
   "metadata": {},
   "outputs": [
    {
     "name": "stdout",
     "output_type": "stream",
     "text": [
      "Help on function linrange in module modsim.modsim:\n",
      "\n",
      "linrange(start=0, stop=None, step=1, endpoint=False, **options)\n",
      "    Returns an array of evenly-spaced values in an interval.\n",
      "    \n",
      "    By default, the last value in the array is `stop-step`\n",
      "    (at least approximately).\n",
      "    If you provide the keyword argument `endpoint=True`,\n",
      "    the last value in the array is `stop`.\n",
      "    \n",
      "    This function works best if the space between start and stop\n",
      "    is divisible by step; otherwise the results might be surprising.\n",
      "    \n",
      "    start: first value\n",
      "    stop: last value\n",
      "    step: space between values\n",
      "    \n",
      "    returns: NumPy array\n",
      "\n"
     ]
    }
   ],
   "source": [
    "help(linrange)"
   ]
  },
  {
   "cell_type": "markdown",
   "metadata": {},
   "source": [
    "Use `linrange` to make an array of numbers from 1 to 11 with a step size of 2."
   ]
  },
  {
   "cell_type": "code",
   "execution_count": 28,
   "metadata": {},
   "outputs": [
    {
     "data": {
      "text/plain": [
       "array([ 1,  3,  5,  7,  9, 11])"
      ]
     },
     "execution_count": 28,
     "metadata": {},
     "output_type": "execute_result"
    }
   ],
   "source": [
    "linrange(1, 12, 2)"
   ]
  },
  {
   "cell_type": "markdown",
   "metadata": {},
   "source": [
    "## Sweeping parameters"
   ]
  },
  {
   "cell_type": "markdown",
   "metadata": {},
   "source": [
    "`p1_array` contains a range of values for `p1`."
   ]
  },
  {
   "cell_type": "code",
   "execution_count": 29,
   "metadata": {},
   "outputs": [
    {
     "data": {
      "text/plain": [
       "array([0. , 0.1, 0.2, 0.3, 0.4, 0.5, 0.6, 0.7, 0.8, 0.9, 1. ])"
      ]
     },
     "execution_count": 29,
     "metadata": {},
     "output_type": "execute_result"
    }
   ],
   "source": [
    "p2 = 0.2\n",
    "num_steps = 60\n",
    "p1_array = linspace(0, 1, 11)"
   ]
  },
  {
   "cell_type": "markdown",
   "metadata": {},
   "source": [
    "The following loop runs a simulation for each value of `p1` in `p1_array`; after each simulation, it prints the number of unhappy customers at the Olin station:"
   ]
  },
  {
   "cell_type": "code",
   "execution_count": 31,
   "metadata": {},
   "outputs": [
    {
     "name": "stdout",
     "output_type": "stream",
     "text": [
      "0.0 0\n",
      "0.1 0\n",
      "0.2 0\n",
      "0.30000000000000004 0\n",
      "0.4 8\n",
      "0.5 10\n",
      "0.6000000000000001 11\n",
      "0.7000000000000001 16\n",
      "0.8 18\n",
      "0.9 32\n",
      "1.0 39\n"
     ]
    }
   ],
   "source": [
    "for p1 in p1_array:\n",
    "    state = run_simulation(init, p1, p2, num_steps)\n",
    "    print(p1, state.olin_empty)"
   ]
  },
  {
   "cell_type": "markdown",
   "metadata": {},
   "source": [
    "Now we can do the same thing, but storing the results in a `SweepSeries` instead of printing them.\n",
    "\n"
   ]
  },
  {
   "cell_type": "code",
   "execution_count": 32,
   "metadata": {},
   "outputs": [],
   "source": [
    "sweep = SweepSeries()\n",
    "\n",
    "for p1 in p1_array:\n",
    "    state = run_simulation(init, p1, p2, num_steps)\n",
    "    sweep[p1] = state.olin_empty"
   ]
  },
  {
   "cell_type": "markdown",
   "metadata": {},
   "source": [
    "And then we can plot the results."
   ]
  },
  {
   "cell_type": "code",
   "execution_count": 33,
   "metadata": {},
   "outputs": [
    {
     "data": {
      "image/png": "[encoded data removed]",
      "text/plain": [
       "<Figure size 432x288 with 1 Axes>"
      ]
     },
     "metadata": {
      "needs_background": "light"
     },
     "output_type": "display_data"
    }
   ],
   "source": [
    "plot(sweep, label='Olin')\n",
    "\n",
    "decorate(title='Olin-Wellesley Bikeshare',\n",
    "         xlabel='Arrival rate at Olin (p1 in customers/min)', \n",
    "         ylabel='Number of unhappy customers')"
   ]
  },
  {
   "cell_type": "markdown",
   "metadata": {},
   "source": [
    "## Exercises\n",
    "\n",
    "**Exercise:** Wrap this code in a function named `sweep_p1` that takes an array called `p1_array` as a parameter.  It should create a new `SweepSeries`, run a simulation for each value of `p1` in `p1_array`, store the results in the `SweepSeries`, and return the `SweepSeries`.\n",
    "\n",
    "Use your function to plot the number of unhappy customers at Olin as a function of `p1`.  Label the axes."
   ]
  },
  {
   "cell_type": "code",
   "execution_count": 37,
   "metadata": {},
   "outputs": [],
   "source": [
    "# ===================================================================================\n",
    "def make_state(data = {}):\n",
    "    \"\"\"Return an initial State object\n",
    "    \n",
    "    Parameters:\n",
    "        data (dict): dictionary of locations with number of bikes at each (default {0.0})\n",
    "            example: {'olin': 10, 'wellesey': 2}\n",
    "    \n",
    "    Returns:\n",
    "        State: state object initialized with data items\n",
    "    \"\"\"\n",
    "    locations_state = State(**data)\n",
    "    return locations_state\n",
    "\n",
    "# ===================================================================\n",
    "def run_simulation(init_state, p1, p2, num_steps):\n",
    "    \"\"\"Simulate the given number of time steps.\n",
    "    \n",
    "    p1: probability of an Olin->Wellesley customer arrival\n",
    "    p2: probability of a Wellesley->Olin customer arrival\n",
    "    num_steps: number of time steps\n",
    "    \"\"\"\n",
    "    state = copy.deepcopy(init_state)\n",
    "\n",
    "    for i in range(num_steps):\n",
    "        step(state, p1, p2)\n",
    "        \n",
    "    return state\n",
    "\n",
    "# ===================================================================\n",
    "def sweep_params(init_state, p1_array=None, p2_array=None, num_steps=50, num_runs=1):\n",
    "    \"\"\"Given possible values for p1 and p2, loop thru each and run a simulation.  If an int or float\n",
    "    is passed, that parameter will be fixed (not swept).  If a list is provided, then we will loop\n",
    "    and sweep that parameter.\n",
    "    \n",
    "    Parameters:\n",
    "        locations (list): List of available locations\n",
    "        init (State): State object to use - should be preinitialized\n",
    "        p1_array (int | list): probability values (default 0.5)\n",
    "        p2_array (int | list): probability values (default 0.5)\n",
    "        num_steps (int): number of steps to simulate (default 50)\n",
    "        num_runs (int): number of runs to do (default 1)\n",
    "    \"\"\"\n",
    "    # make sure p1_array is a list, assign defult if necessary\n",
    "    p1_array = [0.5] if p1_array is None else p1_array\n",
    "    p1_array = p1_array if isinstance(p1_array, collections.Sequence) else [p1_array]\n",
    "    \n",
    "    # make sure p2_array is a list, assign defult if necessary\n",
    "    p2_array = [0.5] if p2_array is None else p2_array\n",
    "    p2_array = p2_array if isinstance(p2_array, collections.Sequence) else [p2_array]\n",
    "\n",
    "    sweep_p1 = SweepSeries()\n",
    "    sweep_p2 = SweepSeries()\n",
    "    \n",
    "    # This loop supports sweeping 1 or more paramtere values and does a grid search\n",
    "    for p1 in p1_array:\n",
    "        for p2 in p2_array:   \n",
    "            for runs in range(num_runs):\n",
    "                state = run_simulation(init_state, p1, p2, num_steps)\n",
    "\n",
    "                if len(p1_array) == 1 and len(p2_array) > 1:\n",
    "                    i = j = p2\n",
    "\n",
    "                elif len(p2_array) == 1 and len(p1_array) > 1:\n",
    "                    i = j = p1\n",
    "\n",
    "                else:\n",
    "                    i = p1\n",
    "                    j = p2\n",
    "\n",
    "                sweep_p1[i] = (sweep_p1[i] + state.olin_empty) if i in sweep_p1 else state.olin_empty\n",
    "                sweep_p2[j] = (sweep_p1[j] + state.wellesley_empty) if j in sweep_p2 else state.wellesley_empty\n",
    "    \n",
    "    # We want to average the results of the number of runs\n",
    "    sweep_p1 = sweep_p1 / num_runs\n",
    "    sweep_p2 = sweep_p2 / num_runs\n",
    "                 \n",
    "    return sweep_p1, sweep_p2\n",
    "\n",
    "\n",
    "# ===================================================================\n",
    "def setup_locations(locations):\n",
    "    \"\"\"Given list of locations, return an initial state and pretty names\"\"\"\n",
    "    l1_name = locations[0][0].capitalize()\n",
    "    l2_name = locations[1][0].capitalize()\n",
    "\n",
    "    # ----- initialize location State object for sims ------\n",
    "    location_state = {}\n",
    "\n",
    "    for loc, start in locations:\n",
    "        location_state[loc] = start\n",
    "        location_state[f'{loc}_empty'] = 0\n",
    "\n",
    "    init_state = make_state(location_state)\n",
    "    \n",
    "    return init_state, l1_name, l2_name"
   ]
  },
  {
   "cell_type": "code",
   "execution_count": 38,
   "metadata": {},
   "outputs": [
    {
     "data": {
      "image/png": "[encoded data removed]",
      "text/plain": [
       "<Figure size 432x288 with 1 Axes>"
      ]
     },
     "metadata": {
      "needs_background": "light"
     },
     "output_type": "display_data"
    },
    {
     "data": {
      "image/png": "[encoded data removed]",
      "text/plain": [
       "<Figure size 432x288 with 1 Axes>"
      ]
     },
     "metadata": {
      "needs_background": "light"
     },
     "output_type": "display_data"
    }
   ],
   "source": [
    "# ---- Initialize Sim Parameters -----\n",
    "num_steps = 60\n",
    "num_runs = 1\n",
    "locations = [('olin', 10), ('wellesley', 2)]\n",
    "\n",
    "init_state, l1_name, l2_name = setup_locations(locations)\n",
    "\n",
    "# ----- Sweep p1 Example -----\n",
    "p1 = linspace(0, 1, 11).tolist()\n",
    "p2 = 0.2\n",
    "\n",
    "sweep1, sweep2 = sweep_params(init_state, p1, p2, num_steps, num_runs)\n",
    "\n",
    "plot(sweep1, label=locations[0][0])\n",
    "plot(sweep2, label=locations[1][0])\n",
    "\n",
    "decorate(title=f'{l1_name}-{l2_name} Bikeshare (p2={p2}, p1:sweep)',\n",
    "         xlabel=f'Arrival rate at {l1_name} (p1 in customers/min)', \n",
    "         ylabel=f'Number of unhappy customers')\n",
    "plt.show()\n",
    "\n",
    "# ----- Sweep p2 Example -----\n",
    "p1 = 0.5\n",
    "p2 = linspace(0, 1, 11).tolist()\n",
    "\n",
    "sweep1, sweep2 = sweep_params(init_state, p1, p2, num_steps, num_runs)\n",
    "\n",
    "plot(sweep1, label=locations[0][0])\n",
    "plot(sweep2, label=locations[1][0])\n",
    "\n",
    "decorate(title=f'{l1_name}-{l2_name} Bikeshare (p1={p1}, p2:sweep)',\n",
    "         xlabel=f'Arrival rate at {l2_name} (p2 in customers/min)', \n",
    "         ylabel=f'Number of unhappy customers')\n",
    "plt.show()\n"
   ]
  },
  {
   "cell_type": "markdown",
   "metadata": {},
   "source": [
    "**Exercise:** Write a function called `sweep_p2` that runs simulations with `p1=0.5` and a range of values for `p2`.  It should store the results in a `SweepSeries` and return the `SweepSeries`.\n"
   ]
  },
  {
   "cell_type": "markdown",
   "metadata": {},
   "source": [
    ">  See solution above - I combined sweeping p1 and p2 into a single function"
   ]
  },
  {
   "cell_type": "markdown",
   "metadata": {},
   "source": [
    "## Optional Exercises\n",
    "\n",
    "The following two exercises are a little more challenging.  If you are comfortable with what you have learned so far, you should give them a try.  If you feel like you have your hands full, you might want to skip them for now.\n",
    "\n",
    "**Exercise:** Because our simulations are random, the results vary from one run to another, and the results of a parameter sweep tend to be noisy.  We can get a clearer picture of the relationship between a parameter and a metric by running multiple simulations with the same parameter and taking the average of the results.\n",
    "\n",
    "Write a function called `run_multiple_simulations` that takes as parameters `p1`, `p2`, `num_steps`, and `num_runs`.\n",
    "\n",
    "`num_runs` specifies how many times it should call `run_simulation`.\n",
    "\n",
    "After each run, it should store the total number of unhappy customers (at Olin or Wellesley) in a `TimeSeries`.  At the end, it should return the `TimeSeries`.\n",
    "\n",
    "Test your function with parameters\n",
    "\n",
    "```\n",
    "p1 = 0.3\n",
    "p2 = 0.3\n",
    "num_steps = 60\n",
    "num_runs = 10\n",
    "```\n",
    "\n",
    "Display the resulting `TimeSeries` and use the `mean` function provided by the `TimeSeries` object to compute the average number of unhappy customers (see Section 2.7)."
   ]
  },
  {
   "cell_type": "code",
   "execution_count": 39,
   "metadata": {},
   "outputs": [
    {
     "data": {
      "image/png": "[encoded data removed]",
      "text/plain": [
       "<Figure size 432x288 with 1 Axes>"
      ]
     },
     "metadata": {
      "needs_background": "light"
     },
     "output_type": "display_data"
    },
    {
     "data": {
      "image/png": "[encoded data removed]",
      "text/plain": [
       "<Figure size 432x288 with 1 Axes>"
      ]
     },
     "metadata": {
      "needs_background": "light"
     },
     "output_type": "display_data"
    }
   ],
   "source": [
    "# ---- Initialize Sim Parameters -----\n",
    "num_steps = 60\n",
    "num_runs = 10\n",
    "locations = [('olin', 10), ('wellesley', 2)]\n",
    "\n",
    "init_state, l1_name, l2_name = setup_locations(locations)\n",
    "\n",
    "\n",
    "# ----- Sweep p1 Example -----\n",
    "p1 = linspace(0, 1, 11).tolist()\n",
    "p2 = 0.3\n",
    "\n",
    "sweep1, sweep2 = sweep_params(init_state, p1, p2, num_steps, num_runs)\n",
    "\n",
    "plot(sweep1, label=l1_name)\n",
    "plot(sweep2, label=l2_name)\n",
    "\n",
    "decorate(title=f'{l1_name}-{l2_name} Bikeshare (p2={p2}, p1:sweep)',\n",
    "         xlabel=f'Arrival rate at {l1_name} (p1 in customers/min)', \n",
    "         ylabel=f'Number of unhappy customers')\n",
    "plt.show()\n",
    "\n",
    "\n",
    "# ----- Sweep p2 Example -----\n",
    "p1 = 0.3\n",
    "p2 = linspace(0, 1, 11).tolist()\n",
    "\n",
    "sweep1, sweep2 = sweep_params(init_state, p1, p2, num_steps, num_runs)\n",
    "\n",
    "plot(sweep1, label=locations[0][0])\n",
    "plot(sweep2, label=locations[1][0])\n",
    "\n",
    "decorate(title=f'{l1_name}-{l2_name} Bikeshare (p1={p1}, p2:sweep)',\n",
    "         xlabel=f'Arrival rate at {l2_name} (p2 in customers/min)', \n",
    "         ylabel=f'Number of unhappy customers')\n",
    "plt.show()"
   ]
  },
  {
   "cell_type": "markdown",
   "metadata": {},
   "source": [
    "**Exercise:**  Continuting the previous exercise, use `run_multiple_simulations` to run simulations with a range of values for `p1` and\n",
    "\n",
    "```\n",
    "p2 = 0.3\n",
    "num_steps = 60\n",
    "num_runs = 20\n",
    "```\n",
    "\n",
    "Store the results in a `SweepSeries`, then plot the average number of unhappy customers as a function of `p1`.  Label the axes.\n",
    "\n",
    "What value of `p1` minimizes the average number of unhappy customers?"
   ]
  },
  {
   "cell_type": "code",
   "execution_count": 51,
   "metadata": {
    "scrolled": true
   },
   "outputs": [
    {
     "data": {
      "image/png": "[encoded data removed]",
      "text/plain": [
       "<Figure size 432x288 with 1 Axes>"
      ]
     },
     "metadata": {
      "needs_background": "light"
     },
     "output_type": "display_data"
    },
    {
     "name": "stdout",
     "output_type": "stream",
     "text": [
      "0.0     0.90\n",
      "0.1     0.80\n",
      "0.2     0.20\n",
      "0.3     0.05\n",
      "0.4     2.40\n",
      "0.5     5.90\n",
      "0.6    18.30\n",
      "0.7    29.00\n",
      "0.8    43.40\n",
      "0.9    52.40\n",
      "1.0    63.90\n",
      "dtype: float64\n",
      "\n",
      "Minimum occurs at p1=0.3 where we have an average number of unhappy customers of 0.05\n"
     ]
    }
   ],
   "source": [
    "# ---- Initialize Sim Parameters -----\n",
    "num_steps = 60\n",
    "num_runs = 20\n",
    "locations = [('olin', 10), ('wellesley', 2)]\n",
    "\n",
    "init_state, l1_name, l2_name = setup_locations(locations)\n",
    "\n",
    "# ----- Sweep p1 Example -----\n",
    "p1 = linspace(0, 1, 11).tolist()\n",
    "p2 = 0.3\n",
    "\n",
    "sweep1, sweep2 = sweep_params(init_state, p1, p2, num_steps, num_runs)\n",
    "\n",
    "plot(sweep1, label=l1_name)\n",
    "plot(sweep2, label=l2_name)\n",
    "\n",
    "decorate(title=f'{l1_name}-{l2_name} Bikeshare (p2={p2}, p1:sweep)',\n",
    "         xlabel=f'Arrival rate at {l1_name} (p1 in customers/min)', \n",
    "         ylabel=f'Number of unhappy customers')\n",
    "plt.show()\n",
    "\n",
    "tot_unhappy = (sweep1+sweep2)\n",
    "print(tot_unhappy)\n",
    "\n",
    "tot_unhappy_list = tot_unhappy.tolist()\n",
    "min_unhappy = min(tot_unhappy_list)\n",
    "min_unhappy_idx = tot_unhappy_list.index(min(tot_unhappy_list))\n",
    "min_unhappy_p = round(tot_unhappy.index[min_unhappy_idx], 1)\n",
    "\n",
    "print(f'\\nMinimum occurs at p1={min_unhappy_p} where we have an average number of unhappy customers of {min_unhappy}')"
   ]
  },
  {
   "cell_type": "markdown",
   "metadata": {},
   "source": [
    "**Note: I ran the simulation a number of times with num_runs=20 and saw different outcomes with p1 varying from 0.1 to 0.3.**\n",
    "\n",
    "### Run with num_runs=1000"
   ]
  },
  {
   "cell_type": "code",
   "execution_count": 54,
   "metadata": {},
   "outputs": [
    {
     "data": {
      "image/png": "[encoded data removed]",
      "text/plain": [
       "<Figure size 432x288 with 1 Axes>"
      ]
     },
     "metadata": {
      "needs_background": "light"
     },
     "output_type": "display_data"
    },
    {
     "name": "stdout",
     "output_type": "stream",
     "text": [
      "0.0     0.016\n",
      "0.1     0.016\n",
      "0.2     0.008\n",
      "0.3     0.218\n",
      "0.4     1.758\n",
      "0.5     7.804\n",
      "0.6    17.066\n",
      "0.7    28.952\n",
      "0.8    40.876\n",
      "0.9    52.858\n",
      "1.0    64.288\n",
      "dtype: float64\n",
      "\n",
      "Minimum occurs at p1=0.2 where we have an average number of unhappy customers of 0.008\n"
     ]
    }
   ],
   "source": [
    "# ---- Initialize Sim Parameters -----\n",
    "num_steps = 60\n",
    "num_runs = 1000\n",
    "locations = [('olin', 10), ('wellesley', 2)]\n",
    "\n",
    "init_state, l1_name, l2_name = setup_locations(locations)\n",
    "\n",
    "# ----- Sweep p1 Example -----\n",
    "p1 = linspace(0, 1, 11).tolist()\n",
    "p2 = 0.3\n",
    "\n",
    "sweep1, sweep2 = sweep_params(init_state, p1, p2, num_steps, num_runs)\n",
    "\n",
    "plot(sweep1, label=l1_name)\n",
    "plot(sweep2, label=l2_name)\n",
    "\n",
    "decorate(title=f'{l1_name}-{l2_name} Bikeshare (p2={p2}, p1:sweep)',\n",
    "         xlabel=f'Arrival rate at {l1_name} (p1 in customers/min)', \n",
    "         ylabel=f'Number of unhappy customers')\n",
    "plt.show()\n",
    "\n",
    "tot_unhappy = (sweep1+sweep2)\n",
    "print(tot_unhappy)\n",
    "\n",
    "tot_unhappy_list = tot_unhappy.tolist()\n",
    "min_unhappy = min(tot_unhappy_list)\n",
    "min_unhappy_idx = tot_unhappy_list.index(min(tot_unhappy_list))\n",
    "min_unhappy_p = round(tot_unhappy.index[min_unhappy_idx], 1)\n",
    "print(f'\\nMinimum occurs at p1={min_unhappy_p} where we have an average number of unhappy customers of {min_unhappy}')"
   ]
  },
  {
   "cell_type": "code",
   "execution_count": null,
   "metadata": {},
   "outputs": [],
   "source": []
  }
 ],
 "metadata": {
  "kernelspec": {
   "display_name": "Python 3",
   "language": "python",
   "name": "python3"
  },
  "language_info": {
   "codemirror_mode": {
    "name": "ipython",
    "version": 3
   },
   "file_extension": ".py",
   "mimetype": "text/x-python",
   "name": "python",
   "nbconvert_exporter": "python",
   "pygments_lexer": "ipython3",
   "version": "3.7.3"
  }
 },
 "nbformat": 4,
 "nbformat_minor": 2
}
